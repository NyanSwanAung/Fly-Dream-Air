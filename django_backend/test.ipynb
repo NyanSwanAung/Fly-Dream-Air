{
 "cells": [
  {
   "cell_type": "code",
   "execution_count": 9,
   "metadata": {},
   "outputs": [],
   "source": [
    "import pandas as pd\n",
    "\n",
    "def read_csv(csv_name):\n",
    "    data = pd.read_csv(csv_name)"
   ]
  },
  {
   "cell_type": "code",
   "execution_count": 1,
   "metadata": {},
   "outputs": [
    {
     "ename": "NameError",
     "evalue": "name '__file__' is not defined",
     "output_type": "error",
     "traceback": [
      "\u001b[0;31m---------------------------------------------------------------------------\u001b[0m",
      "\u001b[0;31mNameError\u001b[0m                                 Traceback (most recent call last)",
      "\u001b[1;32m/Users/nyanswanaung/Documents/UOW/2nd Year (Spring-2022)/CSIT214-IT-PM/project/Fly-Dream-Air/django_backend/test.ipynb Cell 2\u001b[0m in \u001b[0;36m<cell line: 4>\u001b[0;34m()\u001b[0m\n\u001b[1;32m      <a href='vscode-notebook-cell:/Users/nyanswanaung/Documents/UOW/2nd%20Year%20%28Spring-2022%29/CSIT214-IT-PM/project/Fly-Dream-Air/django_backend/test.ipynb#W1sZmlsZQ%3D%3D?line=0'>1</a>\u001b[0m \u001b[39mfrom\u001b[39;00m \u001b[39mpathlib\u001b[39;00m \u001b[39mimport\u001b[39;00m Path\n\u001b[1;32m      <a href='vscode-notebook-cell:/Users/nyanswanaung/Documents/UOW/2nd%20Year%20%28Spring-2022%29/CSIT214-IT-PM/project/Fly-Dream-Air/django_backend/test.ipynb#W1sZmlsZQ%3D%3D?line=2'>3</a>\u001b[0m \u001b[39m# Build paths inside the project like this: BASE_DIR / 'subdir'.\u001b[39;00m\n\u001b[0;32m----> <a href='vscode-notebook-cell:/Users/nyanswanaung/Documents/UOW/2nd%20Year%20%28Spring-2022%29/CSIT214-IT-PM/project/Fly-Dream-Air/django_backend/test.ipynb#W1sZmlsZQ%3D%3D?line=3'>4</a>\u001b[0m BASE_DIR \u001b[39m=\u001b[39m Path(\u001b[39m__file__\u001b[39;49m)\u001b[39m.\u001b[39mresolve()\u001b[39m.\u001b[39mparent\u001b[39m.\u001b[39mparent\n\u001b[1;32m      <a href='vscode-notebook-cell:/Users/nyanswanaung/Documents/UOW/2nd%20Year%20%28Spring-2022%29/CSIT214-IT-PM/project/Fly-Dream-Air/django_backend/test.ipynb#W1sZmlsZQ%3D%3D?line=4'>5</a>\u001b[0m BASE_DIR\n",
      "\u001b[0;31mNameError\u001b[0m: name '__file__' is not defined"
     ]
    }
   ],
   "source": [
    "from pathlib import Path\n",
    "\n",
    "# Build paths inside the project like this: BASE_DIR / 'subdir'.\n",
    "BASE_DIR = Path(__file__).resolve().parent.parent\n",
    "BASE_DIR"
   ]
  },
  {
   "cell_type": "code",
   "execution_count": null,
   "metadata": {},
   "outputs": [],
   "source": [
    "ß"
   ]
  }
 ],
 "metadata": {
  "kernelspec": {
   "display_name": "Python 3.8.2 64-bit",
   "language": "python",
   "name": "python3"
  },
  "language_info": {
   "codemirror_mode": {
    "name": "ipython",
    "version": 3
   },
   "file_extension": ".py",
   "mimetype": "text/x-python",
   "name": "python",
   "nbconvert_exporter": "python",
   "pygments_lexer": "ipython3",
   "version": "3.8.2"
  },
  "orig_nbformat": 4,
  "vscode": {
   "interpreter": {
    "hash": "aee8b7b246df8f9039afb4144a1f6fd8d2ca17a180786b69acc140d282b71a49"
   }
  }
 },
 "nbformat": 4,
 "nbformat_minor": 2
}
