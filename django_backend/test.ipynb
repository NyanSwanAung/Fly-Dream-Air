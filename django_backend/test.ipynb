{
 "cells": [
  {
   "cell_type": "code",
   "execution_count": 1,
   "metadata": {},
   "outputs": [],
   "source": [
    "import pandas as pd\n",
    "\n",
    "def read_csv(csv_name):\n",
    "    data = pd.read_csv(csv_name)\n",
    "    \n",
    "\n"
   ]
  },
  {
   "cell_type": "code",
   "execution_count": 2,
   "metadata": {},
   "outputs": [],
   "source": [
    "data = pd.read_csv('database/international.csv')"
   ]
  },
  {
   "cell_type": "code",
   "execution_count": 5,
   "metadata": {},
   "outputs": [
    {
     "data": {
      "text/plain": [
       "['Austria',\n",
       " 'Brazil',\n",
       " 'Brazil',\n",
       " 'Brazil',\n",
       " 'China',\n",
       " 'China',\n",
       " 'China',\n",
       " 'China',\n",
       " 'China',\n",
       " 'Czech Republic',\n",
       " 'France',\n",
       " 'Germany',\n",
       " 'Germany',\n",
       " 'Hungary',\n",
       " 'India',\n",
       " 'India',\n",
       " 'Indonesia',\n",
       " 'Indonesia',\n",
       " 'Italy',\n",
       " 'Italy',\n",
       " 'Italy',\n",
       " 'Japan',\n",
       " 'Japan',\n",
       " 'Japan',\n",
       " 'Japan ',\n",
       " 'Malaysia',\n",
       " 'Malaysia',\n",
       " 'Myanmar',\n",
       " 'New Zealand',\n",
       " 'New Zealand',\n",
       " 'New Zealand',\n",
       " 'New Zealand',\n",
       " 'Singapore',\n",
       " 'South Africa',\n",
       " 'South Africa',\n",
       " 'South Africa',\n",
       " 'Spain',\n",
       " 'Spain',\n",
       " 'Switzerland ',\n",
       " 'Thailand',\n",
       " 'Thailand',\n",
       " 'Thailand',\n",
       " 'Thailand',\n",
       " 'United Arab Emirates',\n",
       " 'United Arab Emirates',\n",
       " 'United Kingdom',\n",
       " 'United Kingdom',\n",
       " 'United Kingdom',\n",
       " 'United States',\n",
       " 'United States',\n",
       " 'United States',\n",
       " 'United States',\n",
       " 'United States',\n",
       " 'United States',\n",
       " 'United States',\n",
       " 'United States',\n",
       " 'Vietnam',\n",
       " 'Vietnam']"
      ]
     },
     "execution_count": 5,
     "metadata": {},
     "output_type": "execute_result"
    }
   ],
   "source": [
    "data['Country'].to_list()"
   ]
  },
  {
   "cell_type": "code",
   "execution_count": null,
   "metadata": {},
   "outputs": [],
   "source": []
  }
 ],
 "metadata": {
  "kernelspec": {
   "display_name": "Python 3.8.2 64-bit",
   "language": "python",
   "name": "python3"
  },
  "language_info": {
   "codemirror_mode": {
    "name": "ipython",
    "version": 3
   },
   "file_extension": ".py",
   "mimetype": "text/x-python",
   "name": "python",
   "nbconvert_exporter": "python",
   "pygments_lexer": "ipython3",
   "version": "3.8.2"
  },
  "orig_nbformat": 4,
  "vscode": {
   "interpreter": {
    "hash": "aee8b7b246df8f9039afb4144a1f6fd8d2ca17a180786b69acc140d282b71a49"
   }
  }
 },
 "nbformat": 4,
 "nbformat_minor": 2
}
